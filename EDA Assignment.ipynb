{
 "cells": [
  {
   "cell_type": "markdown",
   "id": "6cf41d2b-5c78-4a89-adcd-b16426f1193c",
   "metadata": {},
   "source": [
    "EDA ASSIGNMENT"
   ]
  },
  {
   "cell_type": "code",
   "execution_count": 2,
   "id": "59cb37b0-f40f-4c53-a84d-5498d7394772",
   "metadata": {},
   "outputs": [],
   "source": [
    "import pandas as pd\n",
    "import numpy as np\n",
    "import seaborn as sns\n",
    "import matplotlib.pyplot as plt\n",
    "\n",
    "import warnings\n",
    "warnings.filterwarnings('ignore')"
   ]
  },
  {
   "cell_type": "code",
   "execution_count": 3,
   "id": "90e4a8d8-21e0-4199-a4d1-1c7485163b90",
   "metadata": {},
   "outputs": [],
   "source": [
    "df = pd.read_csv(\"Downloads\\\\BIKE DETAILS.csv\")"
   ]
  },
  {
   "cell_type": "code",
   "execution_count": 4,
   "id": "b48ea6cb-3a20-4ed5-9bb2-0b2550cc353d",
   "metadata": {},
   "outputs": [
    {
     "data": {
      "text/html": [
       "<div>\n",
       "<style scoped>\n",
       "    .dataframe tbody tr th:only-of-type {\n",
       "        vertical-align: middle;\n",
       "    }\n",
       "\n",
       "    .dataframe tbody tr th {\n",
       "        vertical-align: top;\n",
       "    }\n",
       "\n",
       "    .dataframe thead th {\n",
       "        text-align: right;\n",
       "    }\n",
       "</style>\n",
       "<table border=\"1\" class=\"dataframe\">\n",
       "  <thead>\n",
       "    <tr style=\"text-align: right;\">\n",
       "      <th></th>\n",
       "      <th>name</th>\n",
       "      <th>selling_price</th>\n",
       "      <th>year</th>\n",
       "      <th>seller_type</th>\n",
       "      <th>owner</th>\n",
       "      <th>km_driven</th>\n",
       "      <th>ex_showroom_price</th>\n",
       "    </tr>\n",
       "  </thead>\n",
       "  <tbody>\n",
       "    <tr>\n",
       "      <th>0</th>\n",
       "      <td>Royal Enfield Classic 350</td>\n",
       "      <td>175000</td>\n",
       "      <td>2019</td>\n",
       "      <td>Individual</td>\n",
       "      <td>1st owner</td>\n",
       "      <td>350</td>\n",
       "      <td>NaN</td>\n",
       "    </tr>\n",
       "    <tr>\n",
       "      <th>1</th>\n",
       "      <td>Honda Dio</td>\n",
       "      <td>45000</td>\n",
       "      <td>2017</td>\n",
       "      <td>Individual</td>\n",
       "      <td>1st owner</td>\n",
       "      <td>5650</td>\n",
       "      <td>NaN</td>\n",
       "    </tr>\n",
       "    <tr>\n",
       "      <th>2</th>\n",
       "      <td>Royal Enfield Classic Gunmetal Grey</td>\n",
       "      <td>150000</td>\n",
       "      <td>2018</td>\n",
       "      <td>Individual</td>\n",
       "      <td>1st owner</td>\n",
       "      <td>12000</td>\n",
       "      <td>148114.0</td>\n",
       "    </tr>\n",
       "    <tr>\n",
       "      <th>3</th>\n",
       "      <td>Yamaha Fazer FI V 2.0 [2016-2018]</td>\n",
       "      <td>65000</td>\n",
       "      <td>2015</td>\n",
       "      <td>Individual</td>\n",
       "      <td>1st owner</td>\n",
       "      <td>23000</td>\n",
       "      <td>89643.0</td>\n",
       "    </tr>\n",
       "    <tr>\n",
       "      <th>4</th>\n",
       "      <td>Yamaha SZ [2013-2014]</td>\n",
       "      <td>20000</td>\n",
       "      <td>2011</td>\n",
       "      <td>Individual</td>\n",
       "      <td>2nd owner</td>\n",
       "      <td>21000</td>\n",
       "      <td>NaN</td>\n",
       "    </tr>\n",
       "    <tr>\n",
       "      <th>...</th>\n",
       "      <td>...</td>\n",
       "      <td>...</td>\n",
       "      <td>...</td>\n",
       "      <td>...</td>\n",
       "      <td>...</td>\n",
       "      <td>...</td>\n",
       "      <td>...</td>\n",
       "    </tr>\n",
       "    <tr>\n",
       "      <th>1056</th>\n",
       "      <td>Activa 3g</td>\n",
       "      <td>17000</td>\n",
       "      <td>2010</td>\n",
       "      <td>Individual</td>\n",
       "      <td>1st owner</td>\n",
       "      <td>500000</td>\n",
       "      <td>52000.0</td>\n",
       "    </tr>\n",
       "    <tr>\n",
       "      <th>1057</th>\n",
       "      <td>Honda CB twister</td>\n",
       "      <td>16000</td>\n",
       "      <td>2012</td>\n",
       "      <td>Individual</td>\n",
       "      <td>1st owner</td>\n",
       "      <td>33000</td>\n",
       "      <td>51000.0</td>\n",
       "    </tr>\n",
       "    <tr>\n",
       "      <th>1058</th>\n",
       "      <td>Bajaj Discover 125</td>\n",
       "      <td>15000</td>\n",
       "      <td>2013</td>\n",
       "      <td>Individual</td>\n",
       "      <td>2nd owner</td>\n",
       "      <td>35000</td>\n",
       "      <td>57000.0</td>\n",
       "    </tr>\n",
       "    <tr>\n",
       "      <th>1059</th>\n",
       "      <td>Honda CB Shine</td>\n",
       "      <td>12000</td>\n",
       "      <td>2009</td>\n",
       "      <td>Individual</td>\n",
       "      <td>1st owner</td>\n",
       "      <td>53000</td>\n",
       "      <td>58000.0</td>\n",
       "    </tr>\n",
       "    <tr>\n",
       "      <th>1060</th>\n",
       "      <td>Bajaj Pulsar 150</td>\n",
       "      <td>10000</td>\n",
       "      <td>2008</td>\n",
       "      <td>Individual</td>\n",
       "      <td>1st owner</td>\n",
       "      <td>92233</td>\n",
       "      <td>75000.0</td>\n",
       "    </tr>\n",
       "  </tbody>\n",
       "</table>\n",
       "<p>1061 rows × 7 columns</p>\n",
       "</div>"
      ],
      "text/plain": [
       "                                     name  selling_price  year seller_type  \\\n",
       "0               Royal Enfield Classic 350         175000  2019  Individual   \n",
       "1                               Honda Dio          45000  2017  Individual   \n",
       "2     Royal Enfield Classic Gunmetal Grey         150000  2018  Individual   \n",
       "3       Yamaha Fazer FI V 2.0 [2016-2018]          65000  2015  Individual   \n",
       "4                   Yamaha SZ [2013-2014]          20000  2011  Individual   \n",
       "...                                   ...            ...   ...         ...   \n",
       "1056                            Activa 3g          17000  2010  Individual   \n",
       "1057                     Honda CB twister          16000  2012  Individual   \n",
       "1058                   Bajaj Discover 125          15000  2013  Individual   \n",
       "1059                       Honda CB Shine          12000  2009  Individual   \n",
       "1060                     Bajaj Pulsar 150          10000  2008  Individual   \n",
       "\n",
       "          owner  km_driven  ex_showroom_price  \n",
       "0     1st owner        350                NaN  \n",
       "1     1st owner       5650                NaN  \n",
       "2     1st owner      12000           148114.0  \n",
       "3     1st owner      23000            89643.0  \n",
       "4     2nd owner      21000                NaN  \n",
       "...         ...        ...                ...  \n",
       "1056  1st owner     500000            52000.0  \n",
       "1057  1st owner      33000            51000.0  \n",
       "1058  2nd owner      35000            57000.0  \n",
       "1059  1st owner      53000            58000.0  \n",
       "1060  1st owner      92233            75000.0  \n",
       "\n",
       "[1061 rows x 7 columns]"
      ]
     },
     "execution_count": 4,
     "metadata": {},
     "output_type": "execute_result"
    }
   ],
   "source": [
    "df"
   ]
  },
  {
   "cell_type": "code",
   "execution_count": 5,
   "id": "869afebe-a245-4013-8379-c896402d715e",
   "metadata": {},
   "outputs": [
    {
     "data": {
      "text/html": [
       "<div>\n",
       "<style scoped>\n",
       "    .dataframe tbody tr th:only-of-type {\n",
       "        vertical-align: middle;\n",
       "    }\n",
       "\n",
       "    .dataframe tbody tr th {\n",
       "        vertical-align: top;\n",
       "    }\n",
       "\n",
       "    .dataframe thead th {\n",
       "        text-align: right;\n",
       "    }\n",
       "</style>\n",
       "<table border=\"1\" class=\"dataframe\">\n",
       "  <thead>\n",
       "    <tr style=\"text-align: right;\">\n",
       "      <th></th>\n",
       "      <th>name</th>\n",
       "      <th>selling_price</th>\n",
       "      <th>year</th>\n",
       "      <th>seller_type</th>\n",
       "      <th>owner</th>\n",
       "      <th>km_driven</th>\n",
       "      <th>ex_showroom_price</th>\n",
       "    </tr>\n",
       "  </thead>\n",
       "  <tbody>\n",
       "    <tr>\n",
       "      <th>0</th>\n",
       "      <td>Royal Enfield Classic 350</td>\n",
       "      <td>175000</td>\n",
       "      <td>2019</td>\n",
       "      <td>Individual</td>\n",
       "      <td>1st owner</td>\n",
       "      <td>350</td>\n",
       "      <td>NaN</td>\n",
       "    </tr>\n",
       "    <tr>\n",
       "      <th>1</th>\n",
       "      <td>Honda Dio</td>\n",
       "      <td>45000</td>\n",
       "      <td>2017</td>\n",
       "      <td>Individual</td>\n",
       "      <td>1st owner</td>\n",
       "      <td>5650</td>\n",
       "      <td>NaN</td>\n",
       "    </tr>\n",
       "    <tr>\n",
       "      <th>2</th>\n",
       "      <td>Royal Enfield Classic Gunmetal Grey</td>\n",
       "      <td>150000</td>\n",
       "      <td>2018</td>\n",
       "      <td>Individual</td>\n",
       "      <td>1st owner</td>\n",
       "      <td>12000</td>\n",
       "      <td>148114.0</td>\n",
       "    </tr>\n",
       "    <tr>\n",
       "      <th>3</th>\n",
       "      <td>Yamaha Fazer FI V 2.0 [2016-2018]</td>\n",
       "      <td>65000</td>\n",
       "      <td>2015</td>\n",
       "      <td>Individual</td>\n",
       "      <td>1st owner</td>\n",
       "      <td>23000</td>\n",
       "      <td>89643.0</td>\n",
       "    </tr>\n",
       "    <tr>\n",
       "      <th>4</th>\n",
       "      <td>Yamaha SZ [2013-2014]</td>\n",
       "      <td>20000</td>\n",
       "      <td>2011</td>\n",
       "      <td>Individual</td>\n",
       "      <td>2nd owner</td>\n",
       "      <td>21000</td>\n",
       "      <td>NaN</td>\n",
       "    </tr>\n",
       "    <tr>\n",
       "      <th>5</th>\n",
       "      <td>Honda CB Twister</td>\n",
       "      <td>18000</td>\n",
       "      <td>2010</td>\n",
       "      <td>Individual</td>\n",
       "      <td>1st owner</td>\n",
       "      <td>60000</td>\n",
       "      <td>53857.0</td>\n",
       "    </tr>\n",
       "    <tr>\n",
       "      <th>6</th>\n",
       "      <td>Honda CB Hornet 160R</td>\n",
       "      <td>78500</td>\n",
       "      <td>2018</td>\n",
       "      <td>Individual</td>\n",
       "      <td>1st owner</td>\n",
       "      <td>17000</td>\n",
       "      <td>87719.0</td>\n",
       "    </tr>\n",
       "    <tr>\n",
       "      <th>7</th>\n",
       "      <td>Royal Enfield Bullet 350 [2007-2011]</td>\n",
       "      <td>180000</td>\n",
       "      <td>2008</td>\n",
       "      <td>Individual</td>\n",
       "      <td>2nd owner</td>\n",
       "      <td>39000</td>\n",
       "      <td>NaN</td>\n",
       "    </tr>\n",
       "    <tr>\n",
       "      <th>8</th>\n",
       "      <td>Hero Honda CBZ extreme</td>\n",
       "      <td>30000</td>\n",
       "      <td>2010</td>\n",
       "      <td>Individual</td>\n",
       "      <td>1st owner</td>\n",
       "      <td>32000</td>\n",
       "      <td>NaN</td>\n",
       "    </tr>\n",
       "    <tr>\n",
       "      <th>9</th>\n",
       "      <td>Bajaj Discover 125</td>\n",
       "      <td>50000</td>\n",
       "      <td>2016</td>\n",
       "      <td>Individual</td>\n",
       "      <td>1st owner</td>\n",
       "      <td>42000</td>\n",
       "      <td>60122.0</td>\n",
       "    </tr>\n",
       "  </tbody>\n",
       "</table>\n",
       "</div>"
      ],
      "text/plain": [
       "                                   name  selling_price  year seller_type  \\\n",
       "0             Royal Enfield Classic 350         175000  2019  Individual   \n",
       "1                             Honda Dio          45000  2017  Individual   \n",
       "2   Royal Enfield Classic Gunmetal Grey         150000  2018  Individual   \n",
       "3     Yamaha Fazer FI V 2.0 [2016-2018]          65000  2015  Individual   \n",
       "4                 Yamaha SZ [2013-2014]          20000  2011  Individual   \n",
       "5                      Honda CB Twister          18000  2010  Individual   \n",
       "6                  Honda CB Hornet 160R          78500  2018  Individual   \n",
       "7  Royal Enfield Bullet 350 [2007-2011]         180000  2008  Individual   \n",
       "8                Hero Honda CBZ extreme          30000  2010  Individual   \n",
       "9                    Bajaj Discover 125          50000  2016  Individual   \n",
       "\n",
       "       owner  km_driven  ex_showroom_price  \n",
       "0  1st owner        350                NaN  \n",
       "1  1st owner       5650                NaN  \n",
       "2  1st owner      12000           148114.0  \n",
       "3  1st owner      23000            89643.0  \n",
       "4  2nd owner      21000                NaN  \n",
       "5  1st owner      60000            53857.0  \n",
       "6  1st owner      17000            87719.0  \n",
       "7  2nd owner      39000                NaN  \n",
       "8  1st owner      32000                NaN  \n",
       "9  1st owner      42000            60122.0  "
      ]
     },
     "execution_count": 5,
     "metadata": {},
     "output_type": "execute_result"
    }
   ],
   "source": [
    "# 1.Read the Bike Details dataset into a Pandas DataFrame and display its first 10 rows.\n",
    "df.head(10)"
   ]
  },
  {
   "cell_type": "code",
   "execution_count": 6,
   "id": "1ab06203-4a02-4a1d-b070-87c584be74c0",
   "metadata": {},
   "outputs": [
    {
     "data": {
      "text/plain": [
       "name                   0\n",
       "selling_price          0\n",
       "year                   0\n",
       "seller_type            0\n",
       "owner                  0\n",
       "km_driven              0\n",
       "ex_showroom_price    435\n",
       "dtype: int64"
      ]
     },
     "execution_count": 6,
     "metadata": {},
     "output_type": "execute_result"
    }
   ],
   "source": [
    "# 2.Check for missing values in all columns and describe your approach for handling them.\n",
    "df.isnull().sum()"
   ]
  },
  {
   "cell_type": "code",
   "execution_count": 7,
   "id": "271d1561-e665-4ab1-a2c3-c9021e571941",
   "metadata": {},
   "outputs": [
    {
     "data": {
      "text/plain": [
       "(1061, 7)"
      ]
     },
     "execution_count": 7,
     "metadata": {},
     "output_type": "execute_result"
    }
   ],
   "source": [
    "df.shape"
   ]
  },
  {
   "cell_type": "raw",
   "id": "ce7eaa50-8df0-4880-b1f9-fd615689ead4",
   "metadata": {},
   "source": [
    "In this data set , there is only 1 column which consists of missing values, and there are 435 missing values out of 1061 rows. It is numerical feature and is necessary for the prediction purpose.\n",
    "Therefore, its better to replace them with the median."
   ]
  },
  {
   "cell_type": "code",
   "execution_count": 8,
   "id": "257d8c11-b200-4930-99f9-4dcb8b49c99f",
   "metadata": {},
   "outputs": [
    {
     "data": {
      "text/plain": [
       "np.float64(72752.5)"
      ]
     },
     "execution_count": 8,
     "metadata": {},
     "output_type": "execute_result"
    }
   ],
   "source": [
    "# replacing missing values in the ex_showroom_price column  \n",
    "median = df['ex_showroom_price'].median()\n",
    "median"
   ]
  },
  {
   "cell_type": "code",
   "execution_count": 9,
   "id": "e30f588c-b693-4375-8610-603c2461cd51",
   "metadata": {},
   "outputs": [],
   "source": [
    "df.fillna({'ex_showroom_price' : median}, inplace = True)"
   ]
  },
  {
   "cell_type": "code",
   "execution_count": 10,
   "id": "7df11e3d-0774-4255-a6fe-6f65bc2ea0a3",
   "metadata": {},
   "outputs": [
    {
     "data": {
      "text/plain": [
       "0        72752.5\n",
       "1        72752.5\n",
       "2       148114.0\n",
       "3        89643.0\n",
       "4        72752.5\n",
       "          ...   \n",
       "1056     52000.0\n",
       "1057     51000.0\n",
       "1058     57000.0\n",
       "1059     58000.0\n",
       "1060     75000.0\n",
       "Name: ex_showroom_price, Length: 1061, dtype: float64"
      ]
     },
     "execution_count": 10,
     "metadata": {},
     "output_type": "execute_result"
    }
   ],
   "source": [
    "df['ex_showroom_price']"
   ]
  },
  {
   "cell_type": "code",
   "execution_count": 11,
   "id": "d9d141b8-38d5-4256-97ba-258fa24d7319",
   "metadata": {},
   "outputs": [
    {
     "data": {
      "text/plain": [
       "np.int64(0)"
      ]
     },
     "execution_count": 11,
     "metadata": {},
     "output_type": "execute_result"
    }
   ],
   "source": [
    "df['ex_showroom_price'].isnull().sum()"
   ]
  },
  {
   "cell_type": "code",
   "execution_count": 12,
   "id": "03364146-0217-40b8-829c-5a97c22e0a10",
   "metadata": {},
   "outputs": [
    {
     "data": {
      "image/png": "[encoded data removed]",
      "text/plain": [
       "<Figure size 1200x800 with 1 Axes>"
      ]
     },
     "metadata": {},
     "output_type": "display_data"
    }
   ],
   "source": [
    "# 3. Plot the distribution of selling prices using a histogram and describe the overall trend.\n",
    "\n",
    "plt.figure(figsize = (12, 8))\n",
    "plt.hist(df['selling_price'], bins = 30, color = 'skyblue')\n",
    "plt.title(\"Distribution of Selling Prices\")\n",
    "plt.xlabel(\"Selling Price\")\n",
    "plt.ylabel(\"Frequency\")\n",
    "plt.show()"
   ]
  },
  {
   "cell_type": "code",
   "execution_count": 13,
   "id": "10c88999-54e8-4c51-9b8a-1de83ef3592d",
   "metadata": {},
   "outputs": [],
   "source": [
    "# Description\n",
    "# It is right skewed\n",
    "# Highest selling price is mostly between 0 - 100000"
   ]
  },
  {
   "cell_type": "code",
   "execution_count": 14,
   "id": "f9ce7088-9ccd-4876-accd-121898793eb9",
   "metadata": {},
   "outputs": [
    {
     "data": {
      "text/html": [
       "<div>\n",
       "<style scoped>\n",
       "    .dataframe tbody tr th:only-of-type {\n",
       "        vertical-align: middle;\n",
       "    }\n",
       "\n",
       "    .dataframe tbody tr th {\n",
       "        vertical-align: top;\n",
       "    }\n",
       "\n",
       "    .dataframe thead th {\n",
       "        text-align: right;\n",
       "    }\n",
       "</style>\n",
       "<table border=\"1\" class=\"dataframe\">\n",
       "  <thead>\n",
       "    <tr style=\"text-align: right;\">\n",
       "      <th></th>\n",
       "      <th>seller_type</th>\n",
       "      <th>selling_price</th>\n",
       "    </tr>\n",
       "  </thead>\n",
       "  <tbody>\n",
       "    <tr>\n",
       "      <th>0</th>\n",
       "      <td>Dealer</td>\n",
       "      <td>46666.666667</td>\n",
       "    </tr>\n",
       "    <tr>\n",
       "      <th>1</th>\n",
       "      <td>Individual</td>\n",
       "      <td>59711.923223</td>\n",
       "    </tr>\n",
       "  </tbody>\n",
       "</table>\n",
       "</div>"
      ],
      "text/plain": [
       "  seller_type  selling_price\n",
       "0      Dealer   46666.666667\n",
       "1  Individual   59711.923223"
      ]
     },
     "execution_count": 14,
     "metadata": {},
     "output_type": "execute_result"
    }
   ],
   "source": [
    "# 4. Create a bar pot to visualize the average selling price for each seller_type and write one observation.\n",
    "\n",
    "avg_price_per_seller = df.groupby('seller_type')['selling_price'].mean().reset_index()\n",
    "avg_price_per_seller"
   ]
  },
  {
   "cell_type": "code",
   "execution_count": 15,
   "id": "ea61a3c9-e300-4590-a7f8-e6485e51dca9",
   "metadata": {},
   "outputs": [
    {
     "data": {
      "image/png": "[encoded data removed]",
      "text/plain": [
       "<Figure size 1200x800 with 1 Axes>"
      ]
     },
     "metadata": {},
     "output_type": "display_data"
    }
   ],
   "source": [
    "# bar plot\n",
    "\n",
    "plt.figure(figsize = (12, 8))\n",
    "sns.barplot(x = 'seller_type', y = 'selling_price', data = avg_price_per_seller, palette = 'viridis' )\n",
    "plt.title('Average Selling Price by Seller Type')\n",
    "plt.xlabel(\"Seller Type\")\n",
    "plt.ylabel(\"Average Selling Price\")\n",
    "plt.show()"
   ]
  },
  {
   "cell_type": "code",
   "execution_count": 16,
   "id": "cf899aaa-1ccb-4577-b59c-5e50a5972a52",
   "metadata": {},
   "outputs": [],
   "source": [
    "# OBSERVATION\n",
    "\n",
    "# Individuals have a higher average selling price compared to dealers"
   ]
  },
  {
   "cell_type": "code",
   "execution_count": 17,
   "id": "87c04343-d715-418c-adfb-d4b383f09dd1",
   "metadata": {},
   "outputs": [
    {
     "data": {
      "text/html": [
       "<div>\n",
       "<style scoped>\n",
       "    .dataframe tbody tr th:only-of-type {\n",
       "        vertical-align: middle;\n",
       "    }\n",
       "\n",
       "    .dataframe tbody tr th {\n",
       "        vertical-align: top;\n",
       "    }\n",
       "\n",
       "    .dataframe thead th {\n",
       "        text-align: right;\n",
       "    }\n",
       "</style>\n",
       "<table border=\"1\" class=\"dataframe\">\n",
       "  <thead>\n",
       "    <tr style=\"text-align: right;\">\n",
       "      <th></th>\n",
       "      <th>owner</th>\n",
       "      <th>km_driven</th>\n",
       "    </tr>\n",
       "  </thead>\n",
       "  <tbody>\n",
       "    <tr>\n",
       "      <th>0</th>\n",
       "      <td>1st owner</td>\n",
       "      <td>32816.583333</td>\n",
       "    </tr>\n",
       "    <tr>\n",
       "      <th>1</th>\n",
       "      <td>2nd owner</td>\n",
       "      <td>39288.991870</td>\n",
       "    </tr>\n",
       "    <tr>\n",
       "      <th>2</th>\n",
       "      <td>3rd owner</td>\n",
       "      <td>33292.181818</td>\n",
       "    </tr>\n",
       "    <tr>\n",
       "      <th>3</th>\n",
       "      <td>4th owner</td>\n",
       "      <td>311500.000000</td>\n",
       "    </tr>\n",
       "  </tbody>\n",
       "</table>\n",
       "</div>"
      ],
      "text/plain": [
       "       owner      km_driven\n",
       "0  1st owner   32816.583333\n",
       "1  2nd owner   39288.991870\n",
       "2  3rd owner   33292.181818\n",
       "3  4th owner  311500.000000"
      ]
     },
     "execution_count": 17,
     "metadata": {},
     "output_type": "execute_result"
    }
   ],
   "source": [
    "# 5.  Compute the average km_driven for each ownership type (1st owner, 2nd owner, etc.), and present the result as a bar plot.\n",
    "\n",
    "avg_km_per_owner = df.groupby('owner')['km_driven'].mean().reset_index()\n",
    "avg_km_per_owner"
   ]
  },
  {
   "cell_type": "code",
   "execution_count": 18,
   "id": "061403d4-5f83-488d-96d9-57419e58bff2",
   "metadata": {},
   "outputs": [
    {
     "data": {
      "image/png": "[encoded data removed]",
      "text/plain": [
       "<Figure size 1200x800 with 1 Axes>"
      ]
     },
     "metadata": {},
     "output_type": "display_data"
    }
   ],
   "source": [
    "# bar plot\n",
    "\n",
    "plt.figure(figsize = (12, 8))\n",
    "sns.barplot(x = 'owner', y = 'km_driven', data = avg_km_per_owner, palette = 'viridis' )\n",
    "plt.title('Average Km Driven by Ownwership type')\n",
    "plt.xlabel(\"Ownership Type\")\n",
    "plt.ylabel(\"Average Km Driven\")\n",
    "plt.xticks(rotation = 45)\n",
    "plt.show()"
   ]
  },
  {
   "cell_type": "code",
   "execution_count": 19,
   "id": "731c6972-2ca7-4fe0-be49-beec867adfe8",
   "metadata": {},
   "outputs": [],
   "source": [
    "# OBSERVATION\n",
    "\n",
    "# 2nd owners bikes are driven more than 1st and 3rd owners bike\n",
    "# 4th owner category shows an abnormally high average, suggesting data quality issues"
   ]
  },
  {
   "cell_type": "code",
   "execution_count": 20,
   "id": "f74eb696-de69-4c33-9e92-d4268c9eea57",
   "metadata": {},
   "outputs": [
    {
     "name": "stdout",
     "output_type": "stream",
     "text": [
      "Summary Statistics BEFORE removing outliers:\n",
      "\n",
      "count      1061.000000\n",
      "mean      34359.833176\n",
      "std       51623.152702\n",
      "min         350.000000\n",
      "25%       13500.000000\n",
      "50%       25000.000000\n",
      "75%       43000.000000\n",
      "max      880000.000000\n",
      "Name: km_driven, dtype: float64\n",
      "\n",
      "Summary Statistics AFTER removing outliers:\n",
      "\n",
      "count     1022.000000\n",
      "mean     28203.415851\n",
      "std      19552.083583\n",
      "min        350.000000\n",
      "25%      13000.000000\n",
      "50%      24000.000000\n",
      "75%      40000.000000\n",
      "max      86000.000000\n",
      "Name: km_driven, dtype: float64\n",
      "\n",
      "Rows before: 1061, Rows after: 1022, Removed: 39\n"
     ]
    }
   ],
   "source": [
    "# 6. Use the IQR method to detect and remove outliers from the km_driven column. Show before-and-after summary statistics.\n",
    "\n",
    "# Summary statistics before outlier removal\n",
    "print(\"Summary Statistics BEFORE removing outliers:\\n\")\n",
    "print(df['km_driven'].describe())\n",
    "\n",
    "# Detect outliers using IQR method\n",
    "Q1 = df['km_driven'].quantile(0.25)\n",
    "Q3 = df['km_driven'].quantile(0.75)\n",
    "IQR = Q3 - Q1\n",
    "\n",
    "lower_bound = Q1 - 1.5 * IQR\n",
    "upper_bound = Q3 + 1.5 * IQR\n",
    "\n",
    "# Filter dataset (remove outliers)\n",
    "df_no_outliers = df[(df['km_driven'] >= lower_bound) & (df['km_driven'] <= upper_bound)]\n",
    "\n",
    "# Summary statistics after outlier removal\n",
    "print(\"\\nSummary Statistics AFTER removing outliers:\\n\")\n",
    "print(df_no_outliers['km_driven'].describe())\n",
    "\n",
    "# Show how many rows removed\n",
    "print(f\"\\nRows before: {len(df)}, Rows after: {len(df_no_outliers)}, Removed: {len(df) - len(df_no_outliers)}\")\n"
   ]
  },
  {
   "cell_type": "code",
   "execution_count": 21,
   "id": "d0b9a497-d3c8-425a-ad90-79540b0107a2",
   "metadata": {},
   "outputs": [
    {
     "data": {
      "image/png": "[encoded data removed]",
      "text/plain": [
       "<Figure size 1200x1000 with 1 Axes>"
      ]
     },
     "metadata": {},
     "output_type": "display_data"
    }
   ],
   "source": [
    "# 7 Create a scatter plot of year vs. selling_price to explore the relationship between a bike's age and its price.\n",
    "\n",
    "plt.figure(figsize = (12, 10))\n",
    "plt.scatter(df['year'], df['selling_price'], alpha = 0.6)\n",
    "plt.title(\"Scatterplot of year vs selling price\")\n",
    "plt.xlabel(\"Year of Manufacturing\")\n",
    "plt.ylabel(\"Sellinh Price\")\n",
    "plt.show()"
   ]
  },
  {
   "cell_type": "code",
   "execution_count": 42,
   "id": "fcb889db-6772-4d70-95e3-4f59e60910fa",
   "metadata": {},
   "outputs": [
    {
     "name": "stdout",
     "output_type": "stream",
     "text": [
      "                                  name  selling_price  year      owner  \\\n",
      "0            Royal Enfield Classic 350         175000  2019  1st owner   \n",
      "1                            Honda Dio          45000  2017  1st owner   \n",
      "2  Royal Enfield Classic Gunmetal Grey         150000  2018  1st owner   \n",
      "3    Yamaha Fazer FI V 2.0 [2016-2018]          65000  2015  1st owner   \n",
      "4                Yamaha SZ [2013-2014]          20000  2011  2nd owner   \n",
      "\n",
      "   km_driven  ex_showroom_price  \\\n",
      "0        350            72752.5   \n",
      "1       5650            72752.5   \n",
      "2      12000           148114.0   \n",
      "3      23000            89643.0   \n",
      "4      21000            72752.5   \n",
      "\n",
      "                                       seller_type_1  \n",
      "0  <Compressed Sparse Row sparse matrix of dtype ...  \n",
      "1  <Compressed Sparse Row sparse matrix of dtype ...  \n",
      "2  <Compressed Sparse Row sparse matrix of dtype ...  \n",
      "3  <Compressed Sparse Row sparse matrix of dtype ...  \n",
      "4  <Compressed Sparse Row sparse matrix of dtype ...  \n"
     ]
    }
   ],
   "source": [
    "# 8. Convert the seller_type column into numeric format using one-hot encoding. Display the first 5 rows of the resulting DataFrame.\n",
    "\n",
    "from sklearn.preprocessing import OneHotEncoder\n",
    "\n",
    "encoder = OneHotEncoder(drop=\"first\")\n",
    "\n",
    "# Apply encoding to seller_type column\n",
    "encoded = encoder.fit_transform(df[[\"seller_type\"]])\n",
    "\n",
    "# Create DataFrame with encoded values\n",
    "encoded_df = pd.DataFrame(encoded, columns=encoder.get_feature_names_out([\"seller_type\"]))\n",
    "\n",
    "# Concatenate with original DataFrame (drop old column if needed)\n",
    "df_encoded = pd.concat([df.drop(\"seller_type\", axis=1), encoded_df], axis=1)\n",
    "\n",
    "# Display first 5 rows\n",
    "print(df_encoded.head())"
   ]
  },
  {
   "cell_type": "code",
   "execution_count": 45,
   "id": "a31d320d-bfdb-412b-8a5d-335c478bd3da",
   "metadata": {},
   "outputs": [
    {
     "data": {
      "text/plain": [
       "seller_type\n",
       "1    1055\n",
       "0       6\n",
       "Name: count, dtype: int64"
      ]
     },
     "execution_count": 45,
     "metadata": {},
     "output_type": "execute_result"
    }
   ],
   "source": [
    "df.seller_type.value_counts() # 1 = individual , 0 = dealer"
   ]
  },
  {
   "cell_type": "code",
   "execution_count": 44,
   "id": "8419e82a-1708-4885-9f3d-d2d35b1110c2",
   "metadata": {},
   "outputs": [
    {
     "data": {
      "text/html": [
       "<div>\n",
       "<style scoped>\n",
       "    .dataframe tbody tr th:only-of-type {\n",
       "        vertical-align: middle;\n",
       "    }\n",
       "\n",
       "    .dataframe tbody tr th {\n",
       "        vertical-align: top;\n",
       "    }\n",
       "\n",
       "    .dataframe thead th {\n",
       "        text-align: right;\n",
       "    }\n",
       "</style>\n",
       "<table border=\"1\" class=\"dataframe\">\n",
       "  <thead>\n",
       "    <tr style=\"text-align: right;\">\n",
       "      <th></th>\n",
       "      <th>name</th>\n",
       "      <th>selling_price</th>\n",
       "      <th>year</th>\n",
       "      <th>seller_type</th>\n",
       "      <th>owner</th>\n",
       "      <th>km_driven</th>\n",
       "      <th>ex_showroom_price</th>\n",
       "    </tr>\n",
       "  </thead>\n",
       "  <tbody>\n",
       "    <tr>\n",
       "      <th>0</th>\n",
       "      <td>Royal Enfield Classic 350</td>\n",
       "      <td>175000</td>\n",
       "      <td>2019</td>\n",
       "      <td>1</td>\n",
       "      <td>1st owner</td>\n",
       "      <td>350</td>\n",
       "      <td>72752.5</td>\n",
       "    </tr>\n",
       "    <tr>\n",
       "      <th>1</th>\n",
       "      <td>Honda Dio</td>\n",
       "      <td>45000</td>\n",
       "      <td>2017</td>\n",
       "      <td>1</td>\n",
       "      <td>1st owner</td>\n",
       "      <td>5650</td>\n",
       "      <td>72752.5</td>\n",
       "    </tr>\n",
       "    <tr>\n",
       "      <th>2</th>\n",
       "      <td>Royal Enfield Classic Gunmetal Grey</td>\n",
       "      <td>150000</td>\n",
       "      <td>2018</td>\n",
       "      <td>1</td>\n",
       "      <td>1st owner</td>\n",
       "      <td>12000</td>\n",
       "      <td>148114.0</td>\n",
       "    </tr>\n",
       "    <tr>\n",
       "      <th>3</th>\n",
       "      <td>Yamaha Fazer FI V 2.0 [2016-2018]</td>\n",
       "      <td>65000</td>\n",
       "      <td>2015</td>\n",
       "      <td>1</td>\n",
       "      <td>1st owner</td>\n",
       "      <td>23000</td>\n",
       "      <td>89643.0</td>\n",
       "    </tr>\n",
       "    <tr>\n",
       "      <th>4</th>\n",
       "      <td>Yamaha SZ [2013-2014]</td>\n",
       "      <td>20000</td>\n",
       "      <td>2011</td>\n",
       "      <td>1</td>\n",
       "      <td>2nd owner</td>\n",
       "      <td>21000</td>\n",
       "      <td>72752.5</td>\n",
       "    </tr>\n",
       "  </tbody>\n",
       "</table>\n",
       "</div>"
      ],
      "text/plain": [
       "                                  name  selling_price  year  seller_type  \\\n",
       "0            Royal Enfield Classic 350         175000  2019            1   \n",
       "1                            Honda Dio          45000  2017            1   \n",
       "2  Royal Enfield Classic Gunmetal Grey         150000  2018            1   \n",
       "3    Yamaha Fazer FI V 2.0 [2016-2018]          65000  2015            1   \n",
       "4                Yamaha SZ [2013-2014]          20000  2011            1   \n",
       "\n",
       "       owner  km_driven  ex_showroom_price  \n",
       "0  1st owner        350            72752.5  \n",
       "1  1st owner       5650            72752.5  \n",
       "2  1st owner      12000           148114.0  \n",
       "3  1st owner      23000            89643.0  \n",
       "4  2nd owner      21000            72752.5  "
      ]
     },
     "execution_count": 44,
     "metadata": {},
     "output_type": "execute_result"
    }
   ],
   "source": [
    "df.head()"
   ]
  },
  {
   "cell_type": "code",
   "execution_count": 47,
   "id": "30ed0ba6-e864-414b-8318-28a7e6111aba",
   "metadata": {},
   "outputs": [
    {
     "data": {
      "text/plain": [
       "name                  object\n",
       "selling_price          int64\n",
       "year                   int64\n",
       "seller_type            int64\n",
       "owner                 object\n",
       "km_driven              int64\n",
       "ex_showroom_price    float64\n",
       "dtype: object"
      ]
     },
     "execution_count": 47,
     "metadata": {},
     "output_type": "execute_result"
    }
   ],
   "source": [
    "df.dtypes"
   ]
  },
  {
   "cell_type": "code",
   "execution_count": 48,
   "id": "69587630-e8f0-4423-9a29-d1a4089d0adc",
   "metadata": {},
   "outputs": [
    {
     "data": {
      "image/png": "[encoded data removed]",
      "text/plain": [
       "<Figure size 1000x600 with 2 Axes>"
      ]
     },
     "metadata": {},
     "output_type": "display_data"
    }
   ],
   "source": [
    "# 9. Generate a heatmap of the correlation matrix for all numeric columns. What correlations stand out the most?\n",
    "\n",
    "numeric_df = df_encoded.select_dtypes(include=[\"int64\", \"float64\"])\n",
    "corr_matrix = numeric_df.corr()\n",
    "\n",
    "plt.figure(figsize=(10,6))\n",
    "sns.heatmap(corr_matrix, annot=True, cmap=\"coolwarm\", fmt=\".2f\")\n",
    "plt.title(\"Correlation Heatmap of Numeric Columns\")\n",
    "plt.show()"
   ]
  },
  {
   "cell_type": "code",
   "execution_count": null,
   "id": "acc88ba9-3531-41ea-9179-ec631385898f",
   "metadata": {},
   "outputs": [],
   "source": [
    "# Insights \n",
    "# selling_price and ex_showroom_price stands out most"
   ]
  },
  {
   "cell_type": "code",
   "execution_count": null,
   "id": "f843df74-64bb-481b-8230-1bb232394d47",
   "metadata": {},
   "outputs": [],
   "source": [
    "# 10. Summarize your findings in a brief report:\n",
    "# ● What are the most important factors affecting a bike's selling price?\n",
    "# ● Mention any data cleaning or feature engineering you performed."
   ]
  },
  {
   "cell_type": "raw",
   "id": "9d666365-1e93-4ed6-8b22-cf492465882e",
   "metadata": {},
   "source": [
    "1. Most Important Factors Affecting Selling Price\n",
    "\n",
    "Ex-showroom price:\n",
    "Strongest positive correlation with selling price. Higher showroom prices directly translate to higher resale values.\n",
    "\n",
    "Kilometers driven:\n",
    "Negative relationship with selling price — the more a bike has been driven, the lower its resale value.\n",
    "\n",
    "Year of manufacture:\n",
    "Older bikes tend to have lower resale prices, while newer models command higher prices.\n",
    "\n",
    "Ownership type:\n",
    "Bikes with fewer previous owners (1st owner) usually fetch higher selling prices compared to 2nd or 3rd owners.\n",
    "\n",
    "Seller type:\n",
    "Certain seller categories (e.g., “Trustmark Dealers”) are associated with slightly higher selling prices compared to individual sellers.\n",
    "\n",
    "\n",
    "\n",
    "2. Data Cleaning Performed\n",
    "\n",
    "Handled Missing Values:\n",
    "ex_showroom_price had approximately 40% missing values.\n",
    "Instead of dropping rows/column, missing values were imputed using the median, which is robust against skewed distributions.\n",
    "\n",
    "\n",
    "Outlier Removal:\n",
    "Applied the IQR method on km_driven to detect and remove unrealistic mileage values.\n",
    "\n",
    "\n",
    "Encoding Categorical Variables:\n",
    "Used One-Hot Encoding (via sklearn) to convert seller_type into numeric columns.\n",
    "\n",
    "\n",
    "3. Feature Engineering\n",
    "Created numerical values for categorical features (seller_type).\n",
    "\n",
    "\n",
    "In summary:\n",
    "The selling price of a bike is primarily driven by its original showroom price, year of manufacture, and kilometers driven. Ownership type and seller type also play secondary but notable roles.\n"
   ]
  }
 ],
 "metadata": {
  "kernelspec": {
   "display_name": "Python 3 (ipykernel)",
   "language": "python",
   "name": "python3"
  },
  "language_info": {
   "codemirror_mode": {
    "name": "ipython",
    "version": 3
   },
   "file_extension": ".py",
   "mimetype": "text/x-python",
   "name": "python",
   "nbconvert_exporter": "python",
   "pygments_lexer": "ipython3",
   "version": "3.13.5"
  }
 },
 "nbformat": 4,
 "nbformat_minor": 5
}
